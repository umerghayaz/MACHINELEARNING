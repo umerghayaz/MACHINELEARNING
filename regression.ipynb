{
 "cells": [
  {
   "cell_type": "code",
   "execution_count": 2,
   "id": "b1207c62",
   "metadata": {},
   "outputs": [
    {
     "name": "stdout",
     "output_type": "stream",
     "text": [
      "Collecting mglearn"
     ]
    },
    {
     "name": "stderr",
     "output_type": "stream",
     "text": [
      "WARNING: You are using pip version 21.1.3; however, version 21.2.3 is available."
     ]
    },
    {
     "name": "stdout",
     "output_type": "stream",
     "text": [
      "\n",
      "  Downloading mglearn-0.1.9.tar.gz (540 kB)\n",
      "Requirement already satisfied: numpy in c:\\python 37\\lib\\site-packages (from mglearn) (1.21.0)\n",
      "Requirement already satisfied: matplotlib in c:\\python 37\\lib\\site-packages (from mglearn) (3.4.2)\n",
      "Requirement already satisfied: scikit-learn in c:\\python 37\\lib\\site-packages (from mglearn) (0.24.2)\n",
      "Requirement already satisfied: pandas in c:\\python 37\\lib\\site-packages (from mglearn) (1.3.0)\n",
      "Requirement already satisfied: pillow in c:\\python 37\\lib\\site-packages (from mglearn) (8.3.1)\n",
      "Requirement already satisfied: cycler in c:\\python 37\\lib\\site-packages (from mglearn) (0.10.0)\n",
      "Collecting imageio\n",
      "  Downloading imageio-2.9.0-py3-none-any.whl (3.3 MB)\n",
      "Requirement already satisfied: joblib in c:\\python 37\\lib\\site-packages (from mglearn) (1.0.1)\n",
      "Requirement already satisfied: six in c:\\python 37\\lib\\site-packages (from cycler->mglearn) (1.16.0)\n",
      "Requirement already satisfied: pyparsing>=2.2.1 in c:\\python 37\\lib\\site-packages (from matplotlib->mglearn) (2.4.7)\n",
      "Requirement already satisfied: python-dateutil>=2.7 in c:\\python 37\\lib\\site-packages (from matplotlib->mglearn) (2.8.1)\n",
      "Requirement already satisfied: kiwisolver>=1.0.1 in c:\\python 37\\lib\\site-packages (from matplotlib->mglearn) (1.3.1)\n",
      "Requirement already satisfied: pytz>=2017.3 in c:\\python 37\\lib\\site-packages (from pandas->mglearn) (2021.1)\n",
      "Requirement already satisfied: threadpoolctl>=2.0.0 in c:\\python 37\\lib\\site-packages (from scikit-learn->mglearn) (2.2.0)\n",
      "Requirement already satisfied: scipy>=0.19.1 in c:\\python 37\\lib\\site-packages (from scikit-learn->mglearn) (1.7.0)\n",
      "Using legacy 'setup.py install' for mglearn, since package 'wheel' is not installed.\n",
      "Installing collected packages: imageio, mglearn\n",
      "    Running setup.py install for mglearn: started\n",
      "    Running setup.py install for mglearn: finished with status 'done'\n",
      "Successfully installed imageio-2.9.0 mglearn-0.1.9\n"
     ]
    },
    {
     "name": "stderr",
     "output_type": "stream",
     "text": [
      "\n",
      "You should consider upgrading via the 'c:\\python 37\\python.exe -m pip install --upgrade pip' command.\n"
     ]
    }
   ],
   "source": [
    "!pip install mglearn"
   ]
  },
  {
   "cell_type": "markdown",
   "id": "9c56aafd",
   "metadata": {},
   "source": [
    "# Example 1"
   ]
  },
  {
   "cell_type": "code",
   "execution_count": 48,
   "id": "f32ce8e9",
   "metadata": {},
   "outputs": [],
   "source": [
    "from sklearn.linear_model import LinearRegression\n",
    "from sklearn.model_selection import train_test_split\n",
    "import mglearn\n",
    "X, y = mglearn.datasets.make_wave(n_samples=60)\n",
    "X_train, X_test, y_train, y_test = train_test_split(X, y,\n",
    "random_state=42)\n",
    "lr = LinearRegression().fit(X_train, y_train)"
   ]
  },
  {
   "cell_type": "code",
   "execution_count": 49,
   "id": "1a0cd107",
   "metadata": {},
   "outputs": [
    {
     "name": "stdout",
     "output_type": "stream",
     "text": [
      "lr.coef_: [0.39390555]\n",
      "lr.intercept_: -0.031804343026759746\n"
     ]
    }
   ],
   "source": [
    "print(\"lr.coef_: {}\".format(lr.coef_))\n",
    "print(\"lr.intercept_: {}\".format(lr.intercept_))"
   ]
  },
  {
   "cell_type": "code",
   "execution_count": 50,
   "id": "174b8004",
   "metadata": {},
   "outputs": [
    {
     "name": "stdout",
     "output_type": "stream",
     "text": [
      "Training set score: 0.67\n",
      "Test set score: 0.66\n"
     ]
    }
   ],
   "source": [
    "print(\"Training set score: {:.2f}\".format(lr.score(X_train,\n",
    "y_train)))\n",
    "print(\"Test set score: {:.2f}\".format(lr.score(X_test, y_test)))"
   ]
  },
  {
   "cell_type": "code",
   "execution_count": 51,
   "id": "a66b55ea",
   "metadata": {},
   "outputs": [
    {
     "data": {
      "text/plain": [
       "array([-0.3283204 , -0.84483835, -0.49358667,  0.35230624, -0.71167167,\n",
       "        0.19957573,  1.02910669,  0.07859229,  0.75390167, -0.75032857,\n",
       "       -0.47681266,  1.07802761, -0.8104986 ,  0.2013684 ,  1.00692209])"
      ]
     },
     "execution_count": 51,
     "metadata": {},
     "output_type": "execute_result"
    }
   ],
   "source": [
    "y_pred=lr.predict(X_test)\n",
    "y_pred"
   ]
  },
  {
   "cell_type": "code",
   "execution_count": 52,
   "id": "de0a4dc6",
   "metadata": {},
   "outputs": [],
   "source": [
    "def mean_relative_error(y_test,y_pred):\n",
    "    error = 0\n",
    "    n=len(y_test)\n",
    "    for i in range(n):\n",
    "        error += (abs(y_pred[i]-y_test[i])/y_test[i])\n",
    "    return error/n"
   ]
  },
  {
   "cell_type": "code",
   "execution_count": 53,
   "id": "601ae08e",
   "metadata": {},
   "outputs": [
    {
     "data": {
      "text/plain": [
       "-1.2094429205511097"
      ]
     },
     "execution_count": 53,
     "metadata": {},
     "output_type": "execute_result"
    }
   ],
   "source": [
    "c=mean_relative_error(y_test,y_pred)\n",
    "c"
   ]
  },
  {
   "cell_type": "code",
   "execution_count": 45,
   "id": "03d5a47f",
   "metadata": {},
   "outputs": [],
   "source": [
    "X, y = mglearn.datasets.load_extended_boston()\n",
    "X_train, X_test, y_train, y_test = train_test_split(X, y,\n",
    "random_state=0)\n",
    "lr = LinearRegression().fit(X_train, y_train)"
   ]
  },
  {
   "cell_type": "code",
   "execution_count": 46,
   "id": "ea203162",
   "metadata": {},
   "outputs": [
    {
     "name": "stdout",
     "output_type": "stream",
     "text": [
      "Test set R^2: 0.61\n"
     ]
    }
   ],
   "source": [
    "print(\"Test set R^2: {:.2f}\".format(lr.score(X_test, y_test)))"
   ]
  },
  {
   "cell_type": "code",
   "execution_count": 39,
   "id": "78121b48",
   "metadata": {},
   "outputs": [
    {
     "name": "stdout",
     "output_type": "stream",
     "text": [
      "Training set score: 0.95\n",
      "Test set score: 0.61\n"
     ]
    }
   ],
   "source": [
    "print(\"Training set score: {:.2f}\".format(lr.score(X_train,\n",
    "y_train)))\n",
    "print(\"Test set score: {:.2f}\".format(lr.score(X_test, y_test)))"
   ]
  },
  {
   "cell_type": "code",
   "execution_count": 44,
   "id": "d88be69f",
   "metadata": {},
   "outputs": [
    {
     "name": "stdout",
     "output_type": "stream",
     "text": [
      "Test set R^2: 0.61\n"
     ]
    }
   ],
   "source": [
    "print(\"Test set R^2: {:.2f}\".format(lr.score(X_test, y_test)))"
   ]
  },
  {
   "cell_type": "code",
   "execution_count": 40,
   "id": "6b030cf3",
   "metadata": {},
   "outputs": [
    {
     "data": {
      "text/plain": [
       "array([ 23.65294082,  26.73756431,  29.61078314,  10.15490293,\n",
       "        19.63821608,  19.69567722,  22.04569772,  20.8219241 ,\n",
       "        11.62647856,  17.55251923,   6.02831471,  13.30819476,\n",
       "        14.08746399,   8.24933315,  48.92086715,  35.54459237,\n",
       "        23.67706411,  37.23811936,  32.28994966,  22.44461026,\n",
       "        25.04445792,  21.34495855,  20.89993569,  27.34950626,\n",
       "        18.20884762,  30.05914961,  16.38882367,  18.27410131,\n",
       "        34.58728224,  13.84776749,  16.56901813,  18.20821168,\n",
       "        20.00399253,  19.68630353,  26.44755882,  16.35902867,\n",
       "         7.10012009,  36.71844063,  16.76163017,  13.4975915 ,\n",
       "        22.14796642,  19.86834244,  19.74483033,  19.04895022,\n",
       "        11.823238  ,  22.30991276,  17.95961579,   9.9207432 ,\n",
       "        12.34654968,  23.09629767, -26.05316354,  25.18108608,\n",
       "        20.72351713,  52.44146808,   5.7506184 ,  21.16062991,\n",
       "        16.67681922,  17.94789708,  17.07672773,  19.79482458,\n",
       "        23.94848059,  21.07920154,  33.14839064,  29.17411146,\n",
       "        19.31538063,  30.77385559,  15.19001363,  19.27968125,\n",
       "        14.28902591,  21.0217457 ,  18.17979319,  21.77419932,\n",
       "        27.27988436,  29.59118561,  28.01422907,   9.30237051,\n",
       "        41.98096212,  23.57185114,  26.31853086,  19.07604318,\n",
       "        26.31654757,  18.68443745,  21.82845944,  41.76250816,\n",
       "        44.12433801,  24.75612697,  23.00111462,  12.36563547,\n",
       "        32.97750424,  15.883512  ,  18.83795677,   9.18828122,\n",
       "        21.12990826,  29.96045985,  17.69264721,  21.70124105,\n",
       "        13.25650224,  24.96092522,  13.6714964 ,  15.60548478,\n",
       "        25.38906925,  19.15962141,  30.84958417,  19.3180996 ,\n",
       "        27.06140523,  19.93887424,   7.83712161,  20.29586097,\n",
       "        18.22177943,  25.73460894,  36.21513111,  13.7796668 ,\n",
       "        16.79165488,  19.17926261,  15.27289768,  19.34749235,\n",
       "         6.24016005,  20.50524461,  11.22369929,  51.59743425,\n",
       "        28.7954706 ,  11.24042043,  17.25143184,  21.4161027 ,\n",
       "        19.72865917,  19.28660344,  36.92350037])"
      ]
     },
     "execution_count": 40,
     "metadata": {},
     "output_type": "execute_result"
    }
   ],
   "source": [
    "y_pred=lr.predict(X_test)\n",
    "y_pred"
   ]
  },
  {
   "cell_type": "code",
   "execution_count": 31,
   "id": "9456577e",
   "metadata": {},
   "outputs": [],
   "source": [
    "def mean_relative_error(y_test,y_pred):\n",
    "    error = 0\n",
    "    n=len(y_test)\n",
    "    for i in range(n):\n",
    "        error += (abs(y_pred[i]-y_test[i])/y_test[i])\n",
    "    return error/n"
   ]
  },
  {
   "cell_type": "code",
   "execution_count": 33,
   "id": "81edc727",
   "metadata": {},
   "outputs": [
    {
     "data": {
      "text/plain": [
       "0.15494678626614047"
      ]
     },
     "execution_count": 33,
     "metadata": {},
     "output_type": "execute_result"
    }
   ],
   "source": [
    "c=mean_relative_error(y_test,y_pred)\n",
    "c"
   ]
  },
  {
   "cell_type": "markdown",
   "id": "ba7c69b2",
   "metadata": {},
   "source": [
    "# Example 2"
   ]
  },
  {
   "cell_type": "code",
   "execution_count": 69,
   "id": "451723cb",
   "metadata": {},
   "outputs": [],
   "source": [
    "from sklearn.neighbors import KNeighborsRegressor\n",
    "from sklearn.model_selection import train_test_split\n",
    "import mglearn\n",
    "X, y = mglearn.datasets.make_wave(n_samples=40)"
   ]
  },
  {
   "cell_type": "code",
   "execution_count": 70,
   "id": "7b3789d0",
   "metadata": {},
   "outputs": [],
   "source": [
    "# split the wave dataset into a training and a test set\n",
    "X_train, X_test, y_train, y_test = train_test_split(X, y,\n",
    "random_state=0)"
   ]
  },
  {
   "cell_type": "code",
   "execution_count": 91,
   "id": "e4f4458c",
   "metadata": {},
   "outputs": [],
   "source": [
    "reg = KNeighborsRegressor(n_neighbors=9)"
   ]
  },
  {
   "cell_type": "code",
   "execution_count": 92,
   "id": "39a728a1",
   "metadata": {},
   "outputs": [
    {
     "name": "stdout",
     "output_type": "stream",
     "text": [
      "Test set predictions:\n",
      "[23.26666667 19.68888889 23.82222222 11.08888889 21.85555556 20.33333333\n",
      " 21.78888889 20.04444444 22.51111111 16.75555556 10.16666667 11.92222222\n",
      " 15.23333333 10.37777778 26.71111111 30.82222222 22.35555556 36.5\n",
      " 28.65555556 22.5        22.31111111 26.44444444 19.95555556 26.2\n",
      " 23.73333333 14.84444444 16.67777778 16.64444444 36.35555556 19.2\n",
      " 15.7        16.7        20.86666667 21.87777778 26.66666667 26.75555556\n",
      "  9.92222222 26.72222222 13.42222222 14.66666667 24.24444444 21.96666667\n",
      " 20.95555556 18.18888889 24.24444444 24.03333333 22.8        23.7\n",
      " 17.4        19.84444444 18.53333333 22.25555556 24.04444444 25.73333333\n",
      " 17.01111111 21.85555556 22.06666667 21.77777778 12.63333333 23.02222222\n",
      " 23.35555556 20.88888889 27.87777778 27.33333333 21.78888889 28.5\n",
      " 14.41111111 20.07777778 13.87777778 23.97777778 20.54444444 22.2\n",
      " 26.06666667 28.55555556 22.28888889  9.51111111 35.25555556 22.75555556\n",
      " 26.76666667 19.05555556 23.72222222 17.66666667 19.74444444 33.05555556\n",
      " 33.05555556 22.48888889 25.16666667 12.96666667 19.42222222 14.44444444\n",
      " 23.04444444 10.27777778 23.2        24.76666667 20.41111111 22.58888889\n",
      "  9.61111111 26.9        12.97777778 20.64444444 22.6        18.58888889\n",
      " 25.15555556 23.55555556 23.41111111 21.82222222 10.58888889 18.06666667\n",
      " 21.12222222 24.68888889 29.35555556 11.61111111 20.63333333 19.15555556\n",
      " 18.97777778 24.91111111 10.03333333 17.66666667 10.65555556 41.37777778\n",
      " 28.44444444 10.14444444 21.13333333 20.62222222 20.45555556 18.8\n",
      " 30.8       ]\n"
     ]
    }
   ],
   "source": [
    "reg.fit(X_train, y_train)\n",
    "print(\"Test set predictions:\\n{}\".format(reg.predict(X_test)))"
   ]
  },
  {
   "cell_type": "code",
   "execution_count": 93,
   "id": "a42510eb",
   "metadata": {},
   "outputs": [
    {
     "name": "stdout",
     "output_type": "stream",
     "text": [
      "Test set R^2: 0.55\n"
     ]
    }
   ],
   "source": [
    "print(\"Test set R^2: {:.2f}\".format(reg.score(X_test, y_test)))"
   ]
  },
  {
   "cell_type": "code",
   "execution_count": 94,
   "id": "6f6ff84a",
   "metadata": {},
   "outputs": [
    {
     "data": {
      "text/plain": [
       "array([23.26666667, 19.68888889, 23.82222222, 11.08888889, 21.85555556,\n",
       "       20.33333333, 21.78888889, 20.04444444, 22.51111111, 16.75555556,\n",
       "       10.16666667, 11.92222222, 15.23333333, 10.37777778, 26.71111111,\n",
       "       30.82222222, 22.35555556, 36.5       , 28.65555556, 22.5       ,\n",
       "       22.31111111, 26.44444444, 19.95555556, 26.2       , 23.73333333,\n",
       "       14.84444444, 16.67777778, 16.64444444, 36.35555556, 19.2       ,\n",
       "       15.7       , 16.7       , 20.86666667, 21.87777778, 26.66666667,\n",
       "       26.75555556,  9.92222222, 26.72222222, 13.42222222, 14.66666667,\n",
       "       24.24444444, 21.96666667, 20.95555556, 18.18888889, 24.24444444,\n",
       "       24.03333333, 22.8       , 23.7       , 17.4       , 19.84444444,\n",
       "       18.53333333, 22.25555556, 24.04444444, 25.73333333, 17.01111111,\n",
       "       21.85555556, 22.06666667, 21.77777778, 12.63333333, 23.02222222,\n",
       "       23.35555556, 20.88888889, 27.87777778, 27.33333333, 21.78888889,\n",
       "       28.5       , 14.41111111, 20.07777778, 13.87777778, 23.97777778,\n",
       "       20.54444444, 22.2       , 26.06666667, 28.55555556, 22.28888889,\n",
       "        9.51111111, 35.25555556, 22.75555556, 26.76666667, 19.05555556,\n",
       "       23.72222222, 17.66666667, 19.74444444, 33.05555556, 33.05555556,\n",
       "       22.48888889, 25.16666667, 12.96666667, 19.42222222, 14.44444444,\n",
       "       23.04444444, 10.27777778, 23.2       , 24.76666667, 20.41111111,\n",
       "       22.58888889,  9.61111111, 26.9       , 12.97777778, 20.64444444,\n",
       "       22.6       , 18.58888889, 25.15555556, 23.55555556, 23.41111111,\n",
       "       21.82222222, 10.58888889, 18.06666667, 21.12222222, 24.68888889,\n",
       "       29.35555556, 11.61111111, 20.63333333, 19.15555556, 18.97777778,\n",
       "       24.91111111, 10.03333333, 17.66666667, 10.65555556, 41.37777778,\n",
       "       28.44444444, 10.14444444, 21.13333333, 20.62222222, 20.45555556,\n",
       "       18.8       , 30.8       ])"
      ]
     },
     "execution_count": 94,
     "metadata": {},
     "output_type": "execute_result"
    }
   ],
   "source": [
    "y_pred=reg.predict(X_test)\n",
    "y_pred"
   ]
  },
  {
   "cell_type": "code",
   "execution_count": 97,
   "id": "ba282134",
   "metadata": {},
   "outputs": [],
   "source": [
    "def mean_relative_error(y_test,y_pred):\n",
    "    error = 0\n",
    "    n=len(y_test)\n",
    "    for i in range(n):\n",
    "        error += (abs(y_pred[i]-y_test[i])/y_test[i])\n",
    "    return error/n"
   ]
  },
  {
   "cell_type": "code",
   "execution_count": 98,
   "id": "82919191",
   "metadata": {},
   "outputs": [
    {
     "data": {
      "text/plain": [
       "0.1609851522764806"
      ]
     },
     "execution_count": 98,
     "metadata": {},
     "output_type": "execute_result"
    }
   ],
   "source": [
    "c=mean_relative_error(y_test,y_pred)\n",
    "c"
   ]
  },
  {
   "cell_type": "code",
   "execution_count": 99,
   "id": "a3dbff5f",
   "metadata": {},
   "outputs": [],
   "source": [
    "X, y = mglearn.datasets.load_extended_boston()"
   ]
  },
  {
   "cell_type": "code",
   "execution_count": 114,
   "id": "70820881",
   "metadata": {},
   "outputs": [],
   "source": [
    "# split the wave dataset into a training and a test set\n",
    "X_train, X_test, y_train, y_test = train_test_split(X, y,\n",
    "random_state=0)"
   ]
  },
  {
   "cell_type": "code",
   "execution_count": 115,
   "id": "e31e776a",
   "metadata": {},
   "outputs": [],
   "source": [
    "reg = KNeighborsRegressor(n_neighbors=9)"
   ]
  },
  {
   "cell_type": "code",
   "execution_count": 116,
   "id": "396898ec",
   "metadata": {},
   "outputs": [
    {
     "name": "stdout",
     "output_type": "stream",
     "text": [
      "Test set predictions:\n",
      "[23.26666667 19.68888889 23.82222222 11.08888889 21.85555556 20.33333333\n",
      " 21.78888889 20.04444444 22.51111111 16.75555556 10.16666667 11.92222222\n",
      " 15.23333333 10.37777778 26.71111111 30.82222222 22.35555556 36.5\n",
      " 28.65555556 22.5        22.31111111 26.44444444 19.95555556 26.2\n",
      " 23.73333333 14.84444444 16.67777778 16.64444444 36.35555556 19.2\n",
      " 15.7        16.7        20.86666667 21.87777778 26.66666667 26.75555556\n",
      "  9.92222222 26.72222222 13.42222222 14.66666667 24.24444444 21.96666667\n",
      " 20.95555556 18.18888889 24.24444444 24.03333333 22.8        23.7\n",
      " 17.4        19.84444444 18.53333333 22.25555556 24.04444444 25.73333333\n",
      " 17.01111111 21.85555556 22.06666667 21.77777778 12.63333333 23.02222222\n",
      " 23.35555556 20.88888889 27.87777778 27.33333333 21.78888889 28.5\n",
      " 14.41111111 20.07777778 13.87777778 23.97777778 20.54444444 22.2\n",
      " 26.06666667 28.55555556 22.28888889  9.51111111 35.25555556 22.75555556\n",
      " 26.76666667 19.05555556 23.72222222 17.66666667 19.74444444 33.05555556\n",
      " 33.05555556 22.48888889 25.16666667 12.96666667 19.42222222 14.44444444\n",
      " 23.04444444 10.27777778 23.2        24.76666667 20.41111111 22.58888889\n",
      "  9.61111111 26.9        12.97777778 20.64444444 22.6        18.58888889\n",
      " 25.15555556 23.55555556 23.41111111 21.82222222 10.58888889 18.06666667\n",
      " 21.12222222 24.68888889 29.35555556 11.61111111 20.63333333 19.15555556\n",
      " 18.97777778 24.91111111 10.03333333 17.66666667 10.65555556 41.37777778\n",
      " 28.44444444 10.14444444 21.13333333 20.62222222 20.45555556 18.8\n",
      " 30.8       ]\n"
     ]
    }
   ],
   "source": [
    "reg.fit(X_train, y_train)\n",
    "print(\"Test set predictions:\\n{}\".format(reg.predict(X_test)))"
   ]
  },
  {
   "cell_type": "code",
   "execution_count": 117,
   "id": "81b72e7a",
   "metadata": {},
   "outputs": [
    {
     "name": "stdout",
     "output_type": "stream",
     "text": [
      "Test set R^2: 0.55\n"
     ]
    }
   ],
   "source": [
    "print(\"Test set R^2: {:.2f}\".format(reg.score(X_test, y_test)))"
   ]
  },
  {
   "cell_type": "code",
   "execution_count": 118,
   "id": "d8fa6e79",
   "metadata": {},
   "outputs": [
    {
     "data": {
      "text/plain": [
       "array([23.26666667, 19.68888889, 23.82222222, 11.08888889, 21.85555556,\n",
       "       20.33333333, 21.78888889, 20.04444444, 22.51111111, 16.75555556,\n",
       "       10.16666667, 11.92222222, 15.23333333, 10.37777778, 26.71111111,\n",
       "       30.82222222, 22.35555556, 36.5       , 28.65555556, 22.5       ,\n",
       "       22.31111111, 26.44444444, 19.95555556, 26.2       , 23.73333333,\n",
       "       14.84444444, 16.67777778, 16.64444444, 36.35555556, 19.2       ,\n",
       "       15.7       , 16.7       , 20.86666667, 21.87777778, 26.66666667,\n",
       "       26.75555556,  9.92222222, 26.72222222, 13.42222222, 14.66666667,\n",
       "       24.24444444, 21.96666667, 20.95555556, 18.18888889, 24.24444444,\n",
       "       24.03333333, 22.8       , 23.7       , 17.4       , 19.84444444,\n",
       "       18.53333333, 22.25555556, 24.04444444, 25.73333333, 17.01111111,\n",
       "       21.85555556, 22.06666667, 21.77777778, 12.63333333, 23.02222222,\n",
       "       23.35555556, 20.88888889, 27.87777778, 27.33333333, 21.78888889,\n",
       "       28.5       , 14.41111111, 20.07777778, 13.87777778, 23.97777778,\n",
       "       20.54444444, 22.2       , 26.06666667, 28.55555556, 22.28888889,\n",
       "        9.51111111, 35.25555556, 22.75555556, 26.76666667, 19.05555556,\n",
       "       23.72222222, 17.66666667, 19.74444444, 33.05555556, 33.05555556,\n",
       "       22.48888889, 25.16666667, 12.96666667, 19.42222222, 14.44444444,\n",
       "       23.04444444, 10.27777778, 23.2       , 24.76666667, 20.41111111,\n",
       "       22.58888889,  9.61111111, 26.9       , 12.97777778, 20.64444444,\n",
       "       22.6       , 18.58888889, 25.15555556, 23.55555556, 23.41111111,\n",
       "       21.82222222, 10.58888889, 18.06666667, 21.12222222, 24.68888889,\n",
       "       29.35555556, 11.61111111, 20.63333333, 19.15555556, 18.97777778,\n",
       "       24.91111111, 10.03333333, 17.66666667, 10.65555556, 41.37777778,\n",
       "       28.44444444, 10.14444444, 21.13333333, 20.62222222, 20.45555556,\n",
       "       18.8       , 30.8       ])"
      ]
     },
     "execution_count": 118,
     "metadata": {},
     "output_type": "execute_result"
    }
   ],
   "source": [
    "y_pred=reg.predict(X_test)\n",
    "y_pred"
   ]
  },
  {
   "cell_type": "code",
   "execution_count": 119,
   "id": "7d3be395",
   "metadata": {},
   "outputs": [],
   "source": [
    "def mean_relative_error(y_test,y_pred):\n",
    "    error = 0\n",
    "    n=len(y_test)\n",
    "    for i in range(n):\n",
    "        error += (abs(y_pred[i]-y_test[i])/y_test[i])\n",
    "    return error/n"
   ]
  },
  {
   "cell_type": "code",
   "execution_count": 120,
   "id": "fe3422fe",
   "metadata": {},
   "outputs": [
    {
     "data": {
      "text/plain": [
       "0.1609851522764806"
      ]
     },
     "execution_count": 120,
     "metadata": {},
     "output_type": "execute_result"
    }
   ],
   "source": [
    "c=mean_relative_error(y_test,y_pred)\n",
    "c"
   ]
  },
  {
   "cell_type": "code",
   "execution_count": null,
   "id": "ff8cafcc",
   "metadata": {},
   "outputs": [],
   "source": []
  }
 ],
 "metadata": {
  "kernelspec": {
   "display_name": "Python 3 (ipykernel)",
   "language": "python",
   "name": "python3"
  },
  "language_info": {
   "codemirror_mode": {
    "name": "ipython",
    "version": 3
   },
   "file_extension": ".py",
   "mimetype": "text/x-python",
   "name": "python",
   "nbconvert_exporter": "python",
   "pygments_lexer": "ipython3",
   "version": "3.7.7"
  }
 },
 "nbformat": 4,
 "nbformat_minor": 5
}
