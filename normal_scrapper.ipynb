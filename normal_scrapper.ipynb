{
 "cells": [
  {
   "cell_type": "code",
   "execution_count": 19,
   "id": "martial-rough",
   "metadata": {
    "scrolled": true
   },
   "outputs": [
    {
     "name": "stdout",
     "output_type": "stream",
     "text": [
      "Requirement already satisfied: tweepy in c:\\python 37\\lib\\site-packages (3.10.0)\n",
      "Requirement already satisfied: requests[socks]>=2.11.1 in c:\\python 37\\lib\\site-packages (from tweepy) (2.26.0)\n",
      "Requirement already satisfied: requests-oauthlib>=0.7.0 in c:\\python 37\\lib\\site-packages (from tweepy) (1.3.0)\n",
      "Requirement already satisfied: six>=1.10.0 in c:\\python 37\\lib\\site-packages (from tweepy) (1.16.0)\n",
      "Requirement already satisfied: oauthlib>=3.0.0 in c:\\python 37\\lib\\site-packages (from requests-oauthlib>=0.7.0->tweepy) (3.1.1)\n",
      "Requirement already satisfied: certifi>=2017.4.17 in c:\\python 37\\lib\\site-packages (from requests[socks]>=2.11.1->tweepy) (2021.5.30)\n",
      "Requirement already satisfied: charset-normalizer~=2.0.0 in c:\\python 37\\lib\\site-packages (from requests[socks]>=2.11.1->tweepy) (2.0.5)\n",
      "Requirement already satisfied: idna<4,>=2.5 in c:\\python 37\\lib\\site-packages (from requests[socks]>=2.11.1->tweepy) (3.2)\n",
      "Requirement already satisfied: urllib3<1.27,>=1.21.1 in c:\\python 37\\lib\\site-packages (from requests[socks]>=2.11.1->tweepy) (1.26.7)\n",
      "Requirement already satisfied: PySocks!=1.5.7,>=1.5.6 in c:\\python 37\\lib\\site-packages (from requests[socks]>=2.11.1->tweepy) (1.7.1)\n"
     ]
    },
    {
     "name": "stderr",
     "output_type": "stream",
     "text": [
      "WARNING: You are using pip version 21.2.4; however, version 21.3.1 is available.\n",
      "You should consider upgrading via the 'c:\\python 37\\python.exe -m pip install --upgrade pip' command.\n"
     ]
    },
    {
     "name": "stdout",
     "output_type": "stream",
     "text": [
      "Requirement already satisfied: tqdm in c:\\python 37\\lib\\site-packages (4.62.2)"
     ]
    },
    {
     "name": "stderr",
     "output_type": "stream",
     "text": [
      "WARNING: You are using pip version 21.2.4; however, version 21.3.1 is available.\n",
      "You should consider upgrading via the 'c:\\python 37\\python.exe -m pip install --upgrade pip' command.\n"
     ]
    },
    {
     "name": "stdout",
     "output_type": "stream",
     "text": [
      "\n",
      "Requirement already satisfied: colorama in c:\\python 37\\lib\\site-packages (from tqdm) (0.4.4)\n"
     ]
    }
   ],
   "source": [
    "#  !pip install tweepy\n",
    "# !pip install tqdm\n"
   ]
  },
  {
   "cell_type": "code",
   "execution_count": null,
   "id": "8cab2e6d",
   "metadata": {},
   "outputs": [],
   "source": [
    "# scrapping tweeets"
   ]
  },
  {
   "cell_type": "code",
   "execution_count": 1,
   "id": "moving-beads",
   "metadata": {},
   "outputs": [],
   "source": [
    "import os\n",
    "import tweepy as tw\n",
    "import pandas as pd\n",
    "from tqdm import tqdm, notebook\n",
    "import tweepy\n",
    "import csv\n",
    "import tweepy\n",
    "from tweepy import Stream\n",
    "from tweepy.streaming import StreamListener\n",
    "from tweepy import OAuthHandler\n",
    "pd.set_option('display.max_columns', None)\n",
    "pd.set_option('display.max_rows', None)\n",
    "pd.set_option('display.max_colwidth', None)\n",
    "pd.set_option('display.width', None)"
   ]
  },
  {
   "cell_type": "code",
   "execution_count": 2,
   "id": "miniature-lottery",
   "metadata": {},
   "outputs": [],
   "source": [
    "consumer_key = '8ftQLZe8GzfrpDTTSYpyRd3r2'\n",
    "consumer_secret = 'qawaTwbFEYSO1HQkFzAHWDUPV2D6bK5RJ2J5GLsjNQij8TtSCV'\n",
    "access_token = '1321856943972110343-viKhbyEnj1P1BQ7xZf7ZeFEbYCmKDi'\n",
    "access_token_secret = 'xUbAdm5nhQDTPno0JGofV4xJGJQNDeKcqT4ouL8Ym8mtP'\n"
   ]
  },
  {
   "cell_type": "code",
   "execution_count": 3,
   "id": "infrared-occasion",
   "metadata": {},
   "outputs": [],
   "source": [
    "auth = tw.OAuthHandler(consumer_key, consumer_secret)\n"
   ]
  },
  {
   "cell_type": "code",
   "execution_count": 4,
   "id": "dominican-shore",
   "metadata": {},
   "outputs": [],
   "source": [
    "api = tw.API(auth, wait_on_rate_limit=True)\n"
   ]
  },
  {
   "cell_type": "code",
   "execution_count": 9,
   "id": "adjusted-badge",
   "metadata": {},
   "outputs": [],
   "source": [
    "search_words = \"#muree\"\n",
    "date_since = \"2022-03-01\"  \n",
    "# write latitude and longitude for any country\n",
    "# coordinates = '21.7679,78.8718,900km'\n",
    "# Collect tweets\n",
    "# tweets = tw.Cursor(api.search,\n",
    "#               q=search_words,\n",
    "#               lang=\"en\",geocode=coordinates).items(150)\n",
    "tweets = tw.Cursor(api.search,\n",
    "              q=search_words,\n",
    "              lang=\"en\").items(50)"
   ]
  },
  {
   "cell_type": "code",
   "execution_count": 10,
   "id": "asian-madagascar",
   "metadata": {},
   "outputs": [
    {
     "name": "stderr",
     "output_type": "stream",
     "text": [
      "50it [00:09,  5.55it/s]\n"
     ]
    }
   ],
   "source": [
    "tweets_copy = []\n",
    "for tweet in tqdm(tweets):\n",
    "     tweets_copy.append(tweet)"
   ]
  },
  {
   "cell_type": "code",
   "execution_count": 11,
   "id": "backed-fleece",
   "metadata": {},
   "outputs": [
    {
     "name": "stdout",
     "output_type": "stream",
     "text": [
      "tweets retrieved: 50\n"
     ]
    }
   ],
   "source": [
    "print(f\"tweets retrieved: {len(tweets_copy)}\")\n"
   ]
  },
  {
   "cell_type": "code",
   "execution_count": 12,
   "id": "worldwide-pointer",
   "metadata": {},
   "outputs": [
    {
     "name": "stderr",
     "output_type": "stream",
     "text": [
      "100%|██████████████████████████████████████████████████████████████████████████████████| 50/50 [00:40<00:00,  1.23it/s]\n"
     ]
    }
   ],
   "source": [
    "\n",
    "tweets_df = pd.DataFrame()\n",
    "for tweet in tqdm(tweets_copy):\n",
    "    hashtags = []\n",
    "    try:\n",
    "        for hashtag in tweet.entities[\"hashtags\"]:\n",
    "            hashtags.append(hashtag[\"text\"])\n",
    "        text = api.get_status(id=tweet.id,tweet_mode='extended').full_text\n",
    "    except:\n",
    "        pass\n",
    "    tweets_df = tweets_df.append(pd.DataFrame({\n",
    "                                                'user_id': tweet.id,\n",
    "                                                'retweet-count': tweet.retweet_count,\n",
    "                                                'user_name': tweet.user.name, \n",
    "                                               'user_ location': tweet.user.location,\\\n",
    "                                               'user_description': tweet.user.description,\n",
    "                                               \"Geo: \": tweet.geo,\n",
    "                                                'coordinates':[tweet.coordinates],\n",
    "                                               'user_created': tweet.user.created_at,\n",
    "                                               'user_followers': tweet.user.followers_count,\n",
    "                                               'user_friends': tweet.user.friends_count,\n",
    "                                               'user_favourites': tweet.user.favourites_count,\n",
    "                                               'user_verified': tweet.user.verified,\n",
    "                                               'date': tweet.created_at,\n",
    "                                               'text': text, \n",
    "                                               'hashtags': [hashtags if hashtags else None], \n",
    "                                               'source': tweet.source,\n",
    "                                                'place': tweet.place,\n",
    "                                               'is_retweet': tweet.retweeted}, index=[0]))\n"
   ]
  },
  {
   "cell_type": "code",
   "execution_count": 13,
   "id": "marine-violin",
   "metadata": {},
   "outputs": [
    {
     "data": {
      "text/html": [
       "<div>\n",
       "<style scoped>\n",
       "    .dataframe tbody tr th:only-of-type {\n",
       "        vertical-align: middle;\n",
       "    }\n",
       "\n",
       "    .dataframe tbody tr th {\n",
       "        vertical-align: top;\n",
       "    }\n",
       "\n",
       "    .dataframe thead th {\n",
       "        text-align: right;\n",
       "    }\n",
       "</style>\n",
       "<table border=\"1\" class=\"dataframe\">\n",
       "  <thead>\n",
       "    <tr style=\"text-align: right;\">\n",
       "      <th></th>\n",
       "      <th>user_id</th>\n",
       "      <th>retweet-count</th>\n",
       "      <th>user_name</th>\n",
       "      <th>user_ location</th>\n",
       "      <th>user_description</th>\n",
       "      <th>Geo:</th>\n",
       "      <th>coordinates</th>\n",
       "      <th>user_created</th>\n",
       "      <th>user_followers</th>\n",
       "      <th>user_friends</th>\n",
       "      <th>user_favourites</th>\n",
       "      <th>user_verified</th>\n",
       "      <th>date</th>\n",
       "      <th>text</th>\n",
       "      <th>hashtags</th>\n",
       "      <th>source</th>\n",
       "      <th>place</th>\n",
       "      <th>is_retweet</th>\n",
       "    </tr>\n",
       "  </thead>\n",
       "  <tbody>\n",
       "    <tr>\n",
       "      <th>0</th>\n",
       "      <td>1482747553254985741</td>\n",
       "      <td>31</td>\n",
       "      <td>Abdul Basit</td>\n",
       "      <td>Jhelum</td>\n",
       "      <td>Jo 24 hour's man FB nai dy ga woh apna thikana kahen orr paay ga. 😎😎</td>\n",
       "      <td>None</td>\n",
       "      <td>None</td>\n",
       "      <td>2013-05-31 07:47:19</td>\n",
       "      <td>2018</td>\n",
       "      <td>2726</td>\n",
       "      <td>29163</td>\n",
       "      <td>False</td>\n",
       "      <td>2022-01-16 16:12:19</td>\n",
       "      <td>RT @RameezRajaLive: Its horrible listening to the ppl stuck in #Muree regarding the behaviour of locals, especially hotel walas who increas…</td>\n",
       "      <td>[Muree]</td>\n",
       "      <td>Twitter for Android</td>\n",
       "      <td>None</td>\n",
       "      <td>False</td>\n",
       "    </tr>\n",
       "    <tr>\n",
       "      <th>0</th>\n",
       "      <td>1482709204783833099</td>\n",
       "      <td>0</td>\n",
       "      <td>Naveed Naqvi</td>\n",
       "      <td>Lahore, Pakistan</td>\n",
       "      <td>Associate Chartered Accountant</td>\n",
       "      <td>None</td>\n",
       "      <td>None</td>\n",
       "      <td>2013-11-30 13:04:39</td>\n",
       "      <td>37</td>\n",
       "      <td>159</td>\n",
       "      <td>877</td>\n",
       "      <td>False</td>\n",
       "      <td>2022-01-16 13:39:56</td>\n",
       "      <td>There should be APP and help line for tourists and same must be handled by private sector duly financed by Govt.\\n#muree #murreetragedy \\n@ImranKhanPTI @fawadchaudhry @geonews_urdu</td>\n",
       "      <td>None</td>\n",
       "      <td>Twitter for iPhone</td>\n",
       "      <td>None</td>\n",
       "      <td>False</td>\n",
       "    </tr>\n",
       "    <tr>\n",
       "      <th>0</th>\n",
       "      <td>1482688669765021701</td>\n",
       "      <td>70</td>\n",
       "      <td>sarah5</td>\n",
       "      <td></td>\n",
       "      <td>Time is money</td>\n",
       "      <td>None</td>\n",
       "      <td>None</td>\n",
       "      <td>2021-11-06 22:09:42</td>\n",
       "      <td>532</td>\n",
       "      <td>405</td>\n",
       "      <td>11765</td>\n",
       "      <td>False</td>\n",
       "      <td>2022-01-16 12:18:20</td>\n",
       "      <td>RT @NahdT5: I Love Pakistan Armed Forces ❤️🇵🇰\\nMy Army My Pride \\n#PakArmy\\n#Muree #Nathiagali https://t.co/uJtnYvOJNq</td>\n",
       "      <td>[PakArmy, Muree, Nathiagali]</td>\n",
       "      <td>Twitter for Android</td>\n",
       "      <td>None</td>\n",
       "      <td>False</td>\n",
       "    </tr>\n",
       "    <tr>\n",
       "      <th>0</th>\n",
       "      <td>1482680689782706180</td>\n",
       "      <td>260</td>\n",
       "      <td>Dr. Hamza Amjad</td>\n",
       "      <td></td>\n",
       "      <td>@dr.Hardstone @ Ek Naukri Pesha Mazdoor 💪</td>\n",
       "      <td>None</td>\n",
       "      <td>None</td>\n",
       "      <td>2020-05-07 20:15:29</td>\n",
       "      <td>27</td>\n",
       "      <td>648</td>\n",
       "      <td>1557</td>\n",
       "      <td>False</td>\n",
       "      <td>2022-01-16 11:46:37</td>\n",
       "      <td>RT @Naveedfazl: Share this information with other people.\\nEspecially who living in like that area.\\n#Nathiagali \\n#Muree https://t.co/heXdDs6…</td>\n",
       "      <td>[Nathiagali, Muree]</td>\n",
       "      <td>Twitter for Android</td>\n",
       "      <td>None</td>\n",
       "      <td>False</td>\n",
       "    </tr>\n",
       "    <tr>\n",
       "      <th>0</th>\n",
       "      <td>1482676030292832258</td>\n",
       "      <td>8</td>\n",
       "      <td>🎀 Emaan🎀</td>\n",
       "      <td></td>\n",
       "      <td>Pretty brown eyes and mind full of thoughts.\\nMember of Advisory Panel   @TeamISF_\\n  Proud Muslim ❤️\\nProud Pakistani ❤️\\nLove #PakArmy ❤️\\n#Insafian</td>\n",
       "      <td>None</td>\n",
       "      <td>None</td>\n",
       "      <td>2009-08-06 08:09:38</td>\n",
       "      <td>1182</td>\n",
       "      <td>479</td>\n",
       "      <td>14271</td>\n",
       "      <td>False</td>\n",
       "      <td>2022-01-16 11:28:07</td>\n",
       "      <td>RT @e_m_ee_: The Punjab Govt has declared Murree as a calamity-hit area after heavy snowfall wreaked havoc in the city....\\nOver 16 has died…</td>\n",
       "      <td>None</td>\n",
       "      <td>Twitter for Android</td>\n",
       "      <td>None</td>\n",
       "      <td>False</td>\n",
       "    </tr>\n",
       "  </tbody>\n",
       "</table>\n",
       "</div>"
      ],
      "text/plain": [
       "               user_id  retweet-count        user_name    user_ location  \\\n",
       "0  1482747553254985741             31      Abdul Basit            Jhelum   \n",
       "0  1482709204783833099              0     Naveed Naqvi  Lahore, Pakistan   \n",
       "0  1482688669765021701             70           sarah5                     \n",
       "0  1482680689782706180            260  Dr. Hamza Amjad                     \n",
       "0  1482676030292832258              8         🎀 Emaan🎀                     \n",
       "\n",
       "                                                                                                                                         user_description  \\\n",
       "0                                                                                    Jo 24 hour's man FB nai dy ga woh apna thikana kahen orr paay ga. 😎😎   \n",
       "0                                                                                                                          Associate Chartered Accountant   \n",
       "0                                                                                                                                           Time is money   \n",
       "0                                                                                                               @dr.Hardstone @ Ek Naukri Pesha Mazdoor 💪   \n",
       "0  Pretty brown eyes and mind full of thoughts.\\nMember of Advisory Panel   @TeamISF_\\n  Proud Muslim ❤️\\nProud Pakistani ❤️\\nLove #PakArmy ❤️\\n#Insafian   \n",
       "\n",
       "  Geo:  coordinates        user_created  user_followers  user_friends  \\\n",
       "0  None        None 2013-05-31 07:47:19            2018          2726   \n",
       "0  None        None 2013-11-30 13:04:39              37           159   \n",
       "0  None        None 2021-11-06 22:09:42             532           405   \n",
       "0  None        None 2020-05-07 20:15:29              27           648   \n",
       "0  None        None 2009-08-06 08:09:38            1182           479   \n",
       "\n",
       "   user_favourites  user_verified                date  \\\n",
       "0            29163          False 2022-01-16 16:12:19   \n",
       "0              877          False 2022-01-16 13:39:56   \n",
       "0            11765          False 2022-01-16 12:18:20   \n",
       "0             1557          False 2022-01-16 11:46:37   \n",
       "0            14271          False 2022-01-16 11:28:07   \n",
       "\n",
       "                                                                                                                                                                                   text  \\\n",
       "0                                          RT @RameezRajaLive: Its horrible listening to the ppl stuck in #Muree regarding the behaviour of locals, especially hotel walas who increas…   \n",
       "0  There should be APP and help line for tourists and same must be handled by private sector duly financed by Govt.\\n#muree #murreetragedy \\n@ImranKhanPTI @fawadchaudhry @geonews_urdu   \n",
       "0                                                                RT @NahdT5: I Love Pakistan Armed Forces ❤️🇵🇰\\nMy Army My Pride \\n#PakArmy\\n#Muree #Nathiagali https://t.co/uJtnYvOJNq   \n",
       "0                                       RT @Naveedfazl: Share this information with other people.\\nEspecially who living in like that area.\\n#Nathiagali \\n#Muree https://t.co/heXdDs6…   \n",
       "0                                         RT @e_m_ee_: The Punjab Govt has declared Murree as a calamity-hit area after heavy snowfall wreaked havoc in the city....\\nOver 16 has died…   \n",
       "\n",
       "                       hashtags               source place  is_retweet  \n",
       "0                       [Muree]  Twitter for Android  None       False  \n",
       "0                          None   Twitter for iPhone  None       False  \n",
       "0  [PakArmy, Muree, Nathiagali]  Twitter for Android  None       False  \n",
       "0           [Nathiagali, Muree]  Twitter for Android  None       False  \n",
       "0                          None  Twitter for Android  None       False  "
      ]
     },
     "execution_count": 13,
     "metadata": {},
     "output_type": "execute_result"
    }
   ],
   "source": [
    "tweets_df.head()\n",
    "\n",
    "# tweets_df.count()"
   ]
  },
  {
   "cell_type": "code",
   "execution_count": 14,
   "id": "dbbe722a",
   "metadata": {},
   "outputs": [],
   "source": [
    "# putting in csv"
   ]
  },
  {
   "cell_type": "code",
   "execution_count": 15,
   "id": "stuffed-olympus",
   "metadata": {},
   "outputs": [],
   "source": [
    "\n",
    "tweets_all_df = pd.concat([ tweets_df], axis=0)\n"
   ]
  },
  {
   "cell_type": "code",
   "execution_count": 16,
   "id": "agreed-graduation",
   "metadata": {},
   "outputs": [
    {
     "name": "stdout",
     "output_type": "stream",
     "text": [
      "all tweets: (50, 18)\n"
     ]
    }
   ],
   "source": [
    "tweets_all_df.drop_duplicates(subset = [\"user_name\", \"date\", \"text\"], inplace=True)\n",
    "print(f\"all tweets: {tweets_all_df.shape}\")"
   ]
  },
  {
   "cell_type": "code",
   "execution_count": 17,
   "id": "looking-grace",
   "metadata": {},
   "outputs": [],
   "source": [
    "tweets_all_df.to_csv(\"spiderman.csv\", index=False)"
   ]
  },
  {
   "cell_type": "code",
   "execution_count": 18,
   "id": "faced-style",
   "metadata": {},
   "outputs": [
    {
     "name": "stdout",
     "output_type": "stream",
     "text": [
      "user_id             50\n",
      "retweet-count       50\n",
      "user_name           50\n",
      "user_ location      26\n",
      "user_description    46\n",
      "Geo:                 0\n",
      "coordinates          0\n",
      "user_created        50\n",
      "user_followers      50\n",
      "user_friends        50\n",
      "user_favourites     50\n",
      "user_verified       50\n",
      "date                50\n",
      "text                50\n",
      "hashtags            29\n",
      "source              50\n",
      "place                0\n",
      "is_retweet          50\n",
      "dtype: int64\n"
     ]
    }
   ],
   "source": [
    "df = pd.read_csv(\"spiderman.csv\")\n",
    "print(df.count())"
   ]
  },
  {
   "cell_type": "code",
   "execution_count": 37,
   "id": "c54506ac",
   "metadata": {},
   "outputs": [],
   "source": [
    "# scrapping location of place"
   ]
  },
  {
   "cell_type": "code",
   "execution_count": 32,
   "id": "1910ef09",
   "metadata": {},
   "outputs": [
    {
     "name": "stdout",
     "output_type": "stream",
     "text": [
      "The id is : 457b4814b4240d87\n",
      "The url is : https://api.twitter.com/1.1/geo/id/457b4814b4240d87.json\n",
      "The place_type is : city\n",
      "The name is : London\n",
      "The full_name is : London, England\n",
      "The country_code is : GB\n",
      "The country is : United Kingdom\n",
      "The contained_within is : [Place(_api=<tweepy.api.API object at 0x0000016BF35AD0C8>, id='1090d3ced4b75d04', name='London', full_name='London', country='United Kingdom', country_code='GB', url='https://api.twitter.com/1.1/geo/id/1090d3ced4b75d04.json', place_type='admin', attributes={}, bounding_box=BoundingBox(_api=<tweepy.api.API object at 0x0000016BF35AD0C8>, type='Polygon', coordinates=[[[-0.853907, 51.105205], [-0.853907, 52.092674], [0.958128, 52.092674], [0.958128, 51.105205], [-0.853907, 51.105205]]]), centroid=[0.07117031353173425, 51.598867999999996])]\n",
      "The geometry is : None\n",
      "The polylines are : []\n",
      "The centroid is : [-0.14032144467619564, 51.50010115]\n",
      "The bounding_box is : BoundingBox(_api=<tweepy.api.API object at 0x0000016BF35AD0C8>, type='Polygon', coordinates=[[[-0.187894, 51.483718], [-0.187894, 51.5164655], [-0.109978, 51.5164655], [-0.109978, 51.483718], [-0.187894, 51.483718]]])\n"
     ]
    }
   ],
   "source": [
    "import tweepy\n",
    "  \n",
    "# assign the values accordingly\n",
    "consumer_key = '8ftQLZe8GzfrpDTTSYpyRd3r2'\n",
    "consumer_secret = 'qawaTwbFEYSO1HQkFzAHWDUPV2D6bK5RJ2J5GLsjNQij8TtSCV'\n",
    "access_token = '1321856943972110343-viKhbyEnj1P1BQ7xZf7ZeFEbYCmKDi'\n",
    "access_token_secret = 'xUbAdm5nhQDTPno0JGofV4xJGJQNDeKcqT4ouL8Ym8mtP'\n",
    "\n",
    "# authorization of consumer key and consumer secret\n",
    "auth = tweepy.OAuthHandler(consumer_key, consumer_secret)\n",
    "  \n",
    "# set access to user's access key and access secret \n",
    "auth.set_access_token(access_token, access_token_secret)\n",
    "  \n",
    "# calling the api \n",
    "api = tweepy.API(auth)\n",
    "  \n",
    "# Twitter ID of London \n",
    "id = \"457b4814b4240d87\"\n",
    "    \n",
    "# fetching the location \n",
    "place = api.geo_id(id) \n",
    "    \n",
    "# printing the information \n",
    "print(\"The id is : \" + place.id)\n",
    "print(\"The url is : \" + place.url)\n",
    "print(\"The place_type is : \" + place.place_type)\n",
    "print(\"The name is : \" + place.name)\n",
    "print(\"The full_name is : \" + place.full_name)\n",
    "print(\"The country_code is : \" + place.country_code)\n",
    "print(\"The country is : \" + place.country)\n",
    "print(\"The contained_within is : \" + str(place.contained_within))\n",
    "print(\"The geometry is : \" + str(place.geometry))\n",
    "print(\"The polylines are : \" + str(place.polylines))\n",
    "print(\"The centroid is : \" + str(place.centroid))\n",
    "print(\"The bounding_box is : \" + str(place.bounding_box))"
   ]
  },
  {
   "cell_type": "code",
   "execution_count": 33,
   "id": "cda8b7c4",
   "metadata": {},
   "outputs": [],
   "source": [
    "# scrapping user profile"
   ]
  },
  {
   "cell_type": "code",
   "execution_count": 34,
   "id": "5483f22f",
   "metadata": {},
   "outputs": [
    {
     "name": "stdout",
     "output_type": "stream",
     "text": [
      "The id is : 457b4814b4240d87\n",
      "The id_str is : 1266069975502131203\n",
      "The name is : M M Baloch\n",
      "The screen_name is : M_M_Baloch\n",
      "The location is : Turbat, Balochistan\n",
      "The profile_location is : None\n",
      "The description is : Student of Politics\n",
      "The entities are : {'description': {'urls': []}}\n",
      "Is the account protected? : False\n",
      "The followers_count is : 202\n",
      "The friends_count is : 134\n",
      "The listed_count is : 0\n",
      "The account was created on : 2020-05-28 18:13:26\n",
      "The favourites_count is : 5165\n",
      "The utc_offset is : None\n",
      "The geo_enabled is : False\n",
      "The verified is : False\n",
      "The statuses_count is : 454\n",
      "The lang is : None\n",
      "The status ID is : 1481671481281191937\n",
      "The contributors_enabled is : False\n",
      "The is_translator is : False\n",
      "The is_translation_enabled is : False\n",
      "The profile_background_color is : F5F8FA\n",
      "The profile_background_tile is : False\n",
      "The profile_image_url is : http://pbs.twimg.com/profile_images/1472914934669492224/0pLDvphw_normal.jpg\n",
      "The profile_image_url_https is : https://pbs.twimg.com/profile_images/1472914934669492224/0pLDvphw_normal.jpg\n",
      "The profile_banner_url is : https://pbs.twimg.com/profile_banners/1266069975502131203/1630744172\n",
      "The profile_link_color is : 1DA1F2\n",
      "The profile_sidebar_border_color is : C0DEED\n",
      "The profile_sidebar_fill_color is : DDEEF6\n",
      "The profile_text_color is : 333333\n",
      "The profile_use_background_image is : True\n",
      "The has_extended_profile is : False\n",
      "The default_profile is : True\n",
      "The default_profile_image is : False\n",
      "Is the authenticated user following the account? : False\n",
      "Has the authenticated user requested to follow the account? : False\n",
      "Are notifications of the authenticated user turned on for the account? : False\n"
     ]
    }
   ],
   "source": [
    "user = api.get_user(user_id=1266069975502131203 )\n",
    "print(\"The id is : \" + str(id))\n",
    "print(\"The id_str is : \" + user.id_str)\n",
    "print(\"The name is : \" + user.name)\n",
    "print(\"The screen_name is : \" + user.screen_name)\n",
    "print(\"The location is : \" + str(user.location))\n",
    "print(\"The profile_location is : \" + str(user.profile_location))\n",
    "print(\"The description is : \" + user.description)\n",
    "# print(\"The url is : \" + user.url)\n",
    "print(\"The entities are : \" + str(user.entities))\n",
    "print(\"Is the account protected? : \" + str(user.protected))\n",
    "  \n",
    "print(\"The followers_count is : \" + str(user.followers_count))\n",
    "print(\"The friends_count is : \" + str(user.friends_count))\n",
    "print(\"The listed_count is : \" + str(user.listed_count))\n",
    "print(\"The account was created on : \" + str(user.created_at))\n",
    "print(\"The favourites_count is : \" + str(user.favourites_count))\n",
    "print(\"The utc_offset is : \" + str(user.utc_offset))\n",
    "print(\"The geo_enabled is : \" + str(user.geo_enabled))\n",
    "print(\"The verified is : \" + str(user.verified))\n",
    "print(\"The statuses_count is : \" + str(user.statuses_count))\n",
    "print(\"The lang is : \" + str(user.lang))\n",
    "print(\"The status ID is : \" + str(user.status.id))\n",
    "print(\"The contributors_enabled is : \" + str(user.contributors_enabled))\n",
    "print(\"The is_translator is : \" + str(user.is_translator))\n",
    "print(\"The is_translation_enabled is : \" + str(user.is_translation_enabled))\n",
    "  \n",
    "print(\"The profile_background_color is : \" + user.profile_background_color)\n",
    "# print(\"The profile_background_image_url is : \" + user.profile_background_image_url)\n",
    "# print(\"The profile_background_image_url_https is : \" + user.profile_background_image_url_https)\n",
    "print(\"The profile_background_tile is : \" + str(user.profile_background_tile))\n",
    "print(\"The profile_image_url is : \" + user.profile_image_url)\n",
    "print(\"The profile_image_url_https is : \" + user.profile_image_url_https)\n",
    "print(\"The profile_banner_url is : \" + user.profile_banner_url)\n",
    "print(\"The profile_link_color is : \" + user.profile_link_color)\n",
    "print(\"The profile_sidebar_border_color is : \" + user.profile_sidebar_border_color)\n",
    "print(\"The profile_sidebar_fill_color is : \" + user.profile_sidebar_fill_color)\n",
    "print(\"The profile_text_color is : \" + user.profile_text_color)\n",
    "print(\"The profile_use_background_image is : \" + str(user.profile_use_background_image))\n",
    "  \n",
    "print(\"The has_extended_profile is : \" + str(user.has_extended_profile))\n",
    "print(\"The default_profile is : \" + str(user.default_profile))\n",
    "print(\"The default_profile_image is : \" + str(user.default_profile_image))\n",
    "print(\"Is the authenticated user following the account? : \" + str(user.following))\n",
    "  \n",
    "print(\"Has the authenticated user requested to follow the account? : \" + str(user.follow_request_sent))\n",
    "print(\"Are notifications of the authenticated user turned on for the account? : \" + str(user.notifications))"
   ]
  },
  {
   "cell_type": "code",
   "execution_count": null,
   "id": "4d661b29",
   "metadata": {},
   "outputs": [],
   "source": []
  }
 ],
 "metadata": {
  "kernelspec": {
   "display_name": "Python 3 (ipykernel)",
   "language": "python",
   "name": "python3"
  },
  "language_info": {
   "codemirror_mode": {
    "name": "ipython",
    "version": 3
   },
   "file_extension": ".py",
   "mimetype": "text/x-python",
   "name": "python",
   "nbconvert_exporter": "python",
   "pygments_lexer": "ipython3",
   "version": "3.7.7"
  }
 },
 "nbformat": 4,
 "nbformat_minor": 5
}
