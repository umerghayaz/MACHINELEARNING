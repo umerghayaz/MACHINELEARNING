{
 "cells": [
  {
   "cell_type": "code",
   "execution_count": 44,
   "id": "aa2646c7",
   "metadata": {},
   "outputs": [
    {
     "name": "stdout",
     "output_type": "stream",
     "text": [
      "<class 'pandas.core.frame.DataFrame'>\n",
      "RangeIndex: 303 entries, 0 to 302\n",
      "Data columns (total 14 columns):\n",
      " #   Column    Non-Null Count  Dtype  \n",
      "---  ------    --------------  -----  \n",
      " 0   age       303 non-null    int64  \n",
      " 1   gender    303 non-null    int64  \n",
      " 2   cp        303 non-null    int64  \n",
      " 3   trestbps  303 non-null    int64  \n",
      " 4   chol      303 non-null    int64  \n",
      " 5   fbs       303 non-null    int64  \n",
      " 6   restecg   303 non-null    int64  \n",
      " 7   thalach   303 non-null    int64  \n",
      " 8   exang     303 non-null    int64  \n",
      " 9   oldpeak   303 non-null    float64\n",
      " 10  slope     303 non-null    int64  \n",
      " 11  ca        303 non-null    int64  \n",
      " 12  thal      303 non-null    int64  \n",
      " 13  target    303 non-null    int64  \n",
      "dtypes: float64(1), int64(13)\n",
      "memory usage: 33.3 KB\n"
     ]
    },
    {
     "data": {
      "text/plain": [
       "array([1, 0], dtype=int64)"
      ]
     },
     "execution_count": 44,
     "metadata": {},
     "output_type": "execute_result"
    }
   ],
   "source": [
    "import numpy as np\n",
    "import pandas as pd\n",
    "import matplotlib.pyplot as plt\n",
    "import seaborn as sns\n",
    "from sklearn.naive_bayes import GaussianNB,BernoulliNB,MultinomialNB\n",
    "from sklearn.preprocessing import StandardScaler\n",
    "from sklearn import metrics\n",
    "import matplotlib.pyplot as plt\n",
    "from sklearn.metrics import confusion_matrix, classification_report\n",
    "dataset = pd.read_csv(\"heart.csv\")\n",
    "dataset.shape\n",
    "dataset.head(5)\n",
    "dataset.describe()\n",
    "dataset.info()\n",
    "dataset[\"target\"].describe()\n",
    "dataset[\"target\"].unique()"
   ]
  },
  {
   "cell_type": "code",
   "execution_count": 45,
   "id": "8c608713",
   "metadata": {},
   "outputs": [
    {
     "name": "stderr",
     "output_type": "stream",
     "text": [
      "c:\\python 37\\lib\\site-packages\\seaborn\\_decorators.py:43: FutureWarning: Pass the following variable as a keyword arg: x. From version 0.12, the only valid positional argument will be `data`, and passing other arguments without an explicit keyword will result in an error or misinterpretation.\n",
      "  FutureWarning\n"
     ]
    },
    {
     "data": {
      "image/png": "[encoded data removed]",
      "text/plain": [
       "<Figure size 432x288 with 1 Axes>"
      ]
     },
     "metadata": {
      "needs_background": "light"
     },
     "output_type": "display_data"
    },
    {
     "name": "stdout",
     "output_type": "stream",
     "text": [
      "Percentage of patience without heart problems:45.54\n",
      "Percentage of patience with heart problems:54.46\n"
     ]
    }
   ],
   "source": [
    "y = dataset[\"target\"]\n",
    "sns.countplot(y)   \n",
    "plt.show()\n",
    "target_temp = dataset.target.value_counts()\n",
    "print(\"Percentage of patience without heart problems:\"+str(round(target_temp[0]*100/303,2)))\n",
    "print(\"Percentage of patience with heart problems:\"+str(round(target_temp[1]*100/303,2)))"
   ]
  },
  {
   "cell_type": "code",
   "execution_count": 49,
   "id": "a528db60",
   "metadata": {},
   "outputs": [],
   "source": [
    "classifer = GaussianNB()"
   ]
  },
  {
   "cell_type": "code",
   "execution_count": 50,
   "id": "bdbd7012",
   "metadata": {},
   "outputs": [
    {
     "data": {
      "text/plain": [
       "(61,)"
      ]
     },
     "execution_count": 50,
     "metadata": {},
     "output_type": "execute_result"
    }
   ],
   "source": [
    "from sklearn.model_selection import train_test_split\n",
    "predictors = dataset.drop(\"target\",axis=1)\n",
    "target = dataset[\"target\"]\n",
    "X_train,X_test,Y_train,Y_test =train_test_split(predictors,target,test_size=0.20,random_state=0)\n",
    "X_train.shape\n",
    "X_test.shape\n",
    "Y_train.shape\n",
    "Y_test.shape"
   ]
  },
  {
   "cell_type": "code",
   "execution_count": 51,
   "id": "5bf4e7ce",
   "metadata": {},
   "outputs": [
    {
     "name": "stdout",
     "output_type": "stream",
     "text": [
      "The accuracy is85.24590163934425%\n",
      "[[21  6]\n",
      " [ 3 31]]\n",
      "              precision    recall  f1-score   support\n",
      "\n",
      "     class 0       0.88      0.78      0.82        27\n",
      "     class 1       0.84      0.91      0.87        34\n",
      "\n",
      "    accuracy                           0.85        61\n",
      "   macro avg       0.86      0.84      0.85        61\n",
      "weighted avg       0.85      0.85      0.85        61\n",
      "\n"
     ]
    },
    {
     "name": "stderr",
     "output_type": "stream",
     "text": [
      "c:\\python 37\\lib\\site-packages\\sklearn\\metrics\\_ranking.py:951: UndefinedMetricWarning: No positive samples in y_true, true positive value should be meaningless\n",
      "  UndefinedMetricWarning)\n"
     ]
    },
    {
     "data": {
      "image/png": "[encoded data removed]",
      "text/plain": [
       "<Figure size 432x288 with 1 Axes>"
      ]
     },
     "metadata": {
      "needs_background": "light"
     },
     "output_type": "display_data"
    }
   ],
   "source": [
    "model = classifer.fit(X_train, Y_train)\n",
    "Y_pred = model.predict(X_test)\n",
    "print(\"The accuracy is\"+str(metrics.accuracy_score(Y_test,Y_pred)*100)+\"%\")\n",
    "print(confusion_matrix(Y_test, Y_pred))\n",
    "target_names = ['class 0', 'class 1']\n",
    "print(classification_report(Y_test, Y_pred,\n",
    "target_names=target_names))\n",
    "fpr, tpr, thresholds = metrics.roc_curve(Y_test, Y_pred,pos_label=2)\n",
    "metrics.plot_roc_curve(model, X_test, Y_test)\n",
    "plt.show()"
   ]
  },
  {
   "cell_type": "code",
   "execution_count": 22,
   "id": "6a307e40",
   "metadata": {},
   "outputs": [],
   "source": [
    "classifer = GaussianNB(priors=[0.5, 0.5])\n",
    "model = classifer.fit(X_train, Y_train)"
   ]
  },
  {
   "cell_type": "code",
   "execution_count": 23,
   "id": "f3651541",
   "metadata": {},
   "outputs": [
    {
     "name": "stdout",
     "output_type": "stream",
     "text": [
      "The accuracy is83.04347826086956%\n",
      "[[392 146]\n",
      " [ 10 372]]\n",
      "              precision    recall  f1-score   support\n",
      "\n",
      "     class 0       0.98      0.73      0.83       538\n",
      "     class 1       0.72      0.97      0.83       382\n",
      "\n",
      "    accuracy                           0.83       920\n",
      "   macro avg       0.85      0.85      0.83       920\n",
      "weighted avg       0.87      0.83      0.83       920\n",
      "\n"
     ]
    },
    {
     "name": "stderr",
     "output_type": "stream",
     "text": [
      "c:\\python 37\\lib\\site-packages\\sklearn\\metrics\\_ranking.py:951: UndefinedMetricWarning: No positive samples in y_true, true positive value should be meaningless\n",
      "  UndefinedMetricWarning)\n"
     ]
    },
    {
     "data": {
      "image/png": "[encoded data removed]",
      "text/plain": [
       "<Figure size 432x288 with 1 Axes>"
      ]
     },
     "metadata": {
      "needs_background": "light"
     },
     "output_type": "display_data"
    }
   ],
   "source": [
    "Y_pred = model.predict(X_test)\n",
    "print(\"The accuracy is\"+str(metrics.accuracy_score(Y_test,Y_pred)*100)+\"%\")\n",
    "print(confusion_matrix(Y_test, Y_pred))\n",
    "target_names = ['class 0', 'class 1']\n",
    "print(classification_report(Y_test, Y_pred,\n",
    "target_names=target_names))\n",
    "fpr, tpr, thresholds = metrics.roc_curve(Y_test, Y_pred,pos_label=2)\n",
    "metrics.plot_roc_curve(model, X_test, Y_test)\n",
    "plt.show()"
   ]
  },
  {
   "cell_type": "code",
   "execution_count": 14,
   "id": "7d7484e1",
   "metadata": {},
   "outputs": [],
   "source": [
    "import numpy as np\n",
    "import pandas as pd\n",
    "import matplotlib.pyplot as plt\n",
    "import seaborn as sns\n",
    "from sklearn.model_selection import train_test_split\n",
    "from sklearn.neighbors import KNeighborsClassifier\n",
    "from sklearn.preprocessing import StandardScaler\n",
    "from sklearn.neighbors import KNeighborsClassifier\n",
    "from sklearn.preprocessing import StandardScaler\n",
    "from sklearn import metrics\n",
    "import matplotlib.pyplot as plt\n",
    "from sklearn.metrics import confusion_matrix, classification_report"
   ]
  },
  {
   "cell_type": "code",
   "execution_count": 15,
   "id": "b4d04256",
   "metadata": {},
   "outputs": [],
   "source": [
    "dataset = pd.read_csv(\"spambase.data\")\n",
    "target = dataset.iloc[:,-1]\n",
    "dataset.pop(dataset.columns.values[-1])\n",
    "predictors=dataset"
   ]
  },
  {
   "cell_type": "code",
   "execution_count": 16,
   "id": "15b93490",
   "metadata": {},
   "outputs": [],
   "source": [
    "classifer = GaussianNB()"
   ]
  },
  {
   "cell_type": "code",
   "execution_count": 17,
   "id": "87e2762b",
   "metadata": {},
   "outputs": [
    {
     "data": {
      "text/plain": [
       "<bound method DataFrame.info of          0  0.64  0.64.1  0.1  0.32   0.2   0.3   0.4   0.5   0.6  ...  0.39  \\\n",
       "0     0.21  0.28    0.50  0.0  0.14  0.28  0.21  0.07  0.00  0.94  ...   0.0   \n",
       "1     0.06  0.00    0.71  0.0  1.23  0.19  0.19  0.12  0.64  0.25  ...   0.0   \n",
       "2     0.00  0.00    0.00  0.0  0.63  0.00  0.31  0.63  0.31  0.63  ...   0.0   \n",
       "3     0.00  0.00    0.00  0.0  0.63  0.00  0.31  0.63  0.31  0.63  ...   0.0   \n",
       "4     0.00  0.00    0.00  0.0  1.85  0.00  0.00  1.85  0.00  0.00  ...   0.0   \n",
       "...    ...   ...     ...  ...   ...   ...   ...   ...   ...   ...  ...   ...   \n",
       "4595  0.31  0.00    0.62  0.0  0.00  0.31  0.00  0.00  0.00  0.00  ...   0.0   \n",
       "4596  0.00  0.00    0.00  0.0  0.00  0.00  0.00  0.00  0.00  0.00  ...   0.0   \n",
       "4597  0.30  0.00    0.30  0.0  0.00  0.00  0.00  0.00  0.00  0.00  ...   0.0   \n",
       "4598  0.96  0.00    0.00  0.0  0.32  0.00  0.00  0.00  0.00  0.00  ...   0.0   \n",
       "4599  0.00  0.00    0.65  0.0  0.00  0.00  0.00  0.00  0.00  0.00  ...   0.0   \n",
       "\n",
       "       0.40   0.41  0.42  0.778   0.43   0.44  3.756   61   278  \n",
       "0     0.000  0.132   0.0  0.372  0.180  0.048  5.114  101  1028  \n",
       "1     0.010  0.143   0.0  0.276  0.184  0.010  9.821  485  2259  \n",
       "2     0.000  0.137   0.0  0.137  0.000  0.000  3.537   40   191  \n",
       "3     0.000  0.135   0.0  0.135  0.000  0.000  3.537   40   191  \n",
       "4     0.000  0.223   0.0  0.000  0.000  0.000  3.000   15    54  \n",
       "...     ...    ...   ...    ...    ...    ...    ...  ...   ...  \n",
       "4595  0.000  0.232   0.0  0.000  0.000  0.000  1.142    3    88  \n",
       "4596  0.000  0.000   0.0  0.353  0.000  0.000  1.555    4    14  \n",
       "4597  0.102  0.718   0.0  0.000  0.000  0.000  1.404    6   118  \n",
       "4598  0.000  0.057   0.0  0.000  0.000  0.000  1.147    5    78  \n",
       "4599  0.000  0.000   0.0  0.125  0.000  0.000  1.250    5    40  \n",
       "\n",
       "[4600 rows x 57 columns]>"
      ]
     },
     "execution_count": 17,
     "metadata": {},
     "output_type": "execute_result"
    }
   ],
   "source": [
    "dataset.info"
   ]
  },
  {
   "cell_type": "code",
   "execution_count": 33,
   "id": "12c7239c",
   "metadata": {},
   "outputs": [
    {
     "name": "stdout",
     "output_type": "stream",
     "text": [
      "(3680, 57)\n",
      "(920, 57)\n",
      "(3680,)\n",
      "(920,)\n"
     ]
    },
    {
     "data": {
      "text/plain": [
       "0    1\n",
       "1    1\n",
       "2    1\n",
       "3    1\n",
       "4    1\n",
       "Name: 1, dtype: int64"
      ]
     },
     "execution_count": 33,
     "metadata": {},
     "output_type": "execute_result"
    }
   ],
   "source": [
    "X_train,X_test,Y_train,Y_test = train_test_split(predictors,target,test_size=0.20,random_state=0)\n",
    "print(X_train.shape)\n",
    "print(X_test.shape)\n",
    "print(Y_train.shape)\n",
    "print(Y_test.shape)\n",
    "target.head()"
   ]
  },
  {
   "cell_type": "code",
   "execution_count": 34,
   "id": "0fe1ea60",
   "metadata": {},
   "outputs": [
    {
     "name": "stdout",
     "output_type": "stream",
     "text": [
      "The accuracy is83.04347826086956%\n",
      "[[392 146]\n",
      " [ 10 372]]\n",
      "              precision    recall  f1-score   support\n",
      "\n",
      "     class 0       0.98      0.73      0.83       538\n",
      "     class 1       0.72      0.97      0.83       382\n",
      "\n",
      "    accuracy                           0.83       920\n",
      "   macro avg       0.85      0.85      0.83       920\n",
      "weighted avg       0.87      0.83      0.83       920\n",
      "\n"
     ]
    },
    {
     "name": "stderr",
     "output_type": "stream",
     "text": [
      "c:\\python 37\\lib\\site-packages\\sklearn\\metrics\\_ranking.py:951: UndefinedMetricWarning: No positive samples in y_true, true positive value should be meaningless\n",
      "  UndefinedMetricWarning)\n"
     ]
    },
    {
     "data": {
      "image/png": "[encoded data removed]",
      "text/plain": [
       "<Figure size 432x288 with 1 Axes>"
      ]
     },
     "metadata": {
      "needs_background": "light"
     },
     "output_type": "display_data"
    }
   ],
   "source": [
    "model = classifer.fit(X_train, Y_train)\n",
    "Y_pred = model.predict(X_test)\n",
    "print(\"The accuracy is\"+str(metrics.accuracy_score(Y_test,Y_pred)*100)+\"%\")\n",
    "print(confusion_matrix(Y_test, Y_pred))\n",
    "target_names = ['class 0', 'class 1']\n",
    "print(classification_report(Y_test, Y_pred,\n",
    "target_names=target_names))\n",
    "fpr, tpr, thresholds = metrics.roc_curve(Y_test, Y_pred,pos_label=2)\n",
    "metrics.plot_roc_curve(model, X_test, Y_test)\n",
    "plt.show()"
   ]
  },
  {
   "cell_type": "code",
   "execution_count": 27,
   "id": "95ffbf13",
   "metadata": {},
   "outputs": [],
   "source": [
    "from sklearn.naive_bayes import GaussianNB\n",
    "classifer = GaussianNB()"
   ]
  },
  {
   "cell_type": "code",
   "execution_count": 28,
   "id": "4577b335",
   "metadata": {},
   "outputs": [
    {
     "name": "stdout",
     "output_type": "stream",
     "text": [
      "(3680, 57)\n",
      "(920, 57)\n",
      "(3680,)\n",
      "(920,)\n"
     ]
    },
    {
     "data": {
      "text/plain": [
       "0    1\n",
       "1    1\n",
       "2    1\n",
       "3    1\n",
       "4    1\n",
       "Name: 1, dtype: int64"
      ]
     },
     "execution_count": 28,
     "metadata": {},
     "output_type": "execute_result"
    }
   ],
   "source": [
    "X_train,X_test,Y_train,Y_test = train_test_split(predictors,target,test_size=0.20,random_state=0)\n",
    "print(X_train.shape)\n",
    "print(X_test.shape)\n",
    "print(Y_train.shape)\n",
    "print(Y_test.shape)\n",
    "target.head()"
   ]
  },
  {
   "cell_type": "code",
   "execution_count": 29,
   "id": "561fdda9",
   "metadata": {},
   "outputs": [],
   "source": [
    "classifer = GaussianNB(priors=[0.25, 0.75])\n",
    "model = classifer.fit(X_train, Y_train)"
   ]
  },
  {
   "cell_type": "code",
   "execution_count": 30,
   "id": "0d862b0d",
   "metadata": {},
   "outputs": [
    {
     "name": "stdout",
     "output_type": "stream",
     "text": [
      "The accuracy is82.93478260869566%\n",
      "[[391 147]\n",
      " [ 10 372]]\n",
      "              precision    recall  f1-score   support\n",
      "\n",
      "     class 0       0.98      0.73      0.83       538\n",
      "     class 1       0.72      0.97      0.83       382\n",
      "\n",
      "    accuracy                           0.83       920\n",
      "   macro avg       0.85      0.85      0.83       920\n",
      "weighted avg       0.87      0.83      0.83       920\n",
      "\n"
     ]
    },
    {
     "name": "stderr",
     "output_type": "stream",
     "text": [
      "c:\\python 37\\lib\\site-packages\\sklearn\\metrics\\_ranking.py:951: UndefinedMetricWarning: No positive samples in y_true, true positive value should be meaningless\n",
      "  UndefinedMetricWarning)\n"
     ]
    },
    {
     "data": {
      "image/png": "[encoded data removed]",
      "text/plain": [
       "<Figure size 432x288 with 1 Axes>"
      ]
     },
     "metadata": {
      "needs_background": "light"
     },
     "output_type": "display_data"
    }
   ],
   "source": [
    "model = classifer.fit(X_train, Y_train)\n",
    "Y_pred = model.predict(X_test)\n",
    "print(\"The accuracy is\"+str(metrics.accuracy_score(Y_test,Y_pred)*100)+\"%\")\n",
    "print(confusion_matrix(Y_test, Y_pred))\n",
    "target_names = ['class 0', 'class 1']\n",
    "print(classification_report(Y_test, Y_pred,\n",
    "target_names=target_names))\n",
    "fpr, tpr, thresholds = metrics.roc_curve(Y_test, Y_pred,pos_label=2)\n",
    "metrics.plot_roc_curve(model, X_test, Y_test)\n",
    "plt.show()"
   ]
  },
  {
   "cell_type": "code",
   "execution_count": 9,
   "id": "5b3c595c",
   "metadata": {},
   "outputs": [],
   "source": [
    "from sklearn import datasets\n",
    "\n",
    "iris = datasets.load_iris()\n",
    "X, y = iris.data[:, 1:3], iris.target"
   ]
  },
  {
   "cell_type": "code",
   "execution_count": 10,
   "id": "9d4fbc91",
   "metadata": {},
   "outputs": [
    {
     "name": "stdout",
     "output_type": "stream",
     "text": [
      "3-fold cross validation:\n",
      "\n",
      "Accuracy: 0.91 (+/- 0.01) [KNN]\n",
      "Accuracy: 0.95 (+/- 0.01) [Random Forest]\n",
      "Accuracy: 0.91 (+/- 0.02) [Naive Bayes]\n",
      "Accuracy: 0.95 (+/- 0.02) [StackingClassifier]\n"
     ]
    }
   ],
   "source": [
    "from sklearn import model_selection\n",
    "from sklearn.linear_model import LogisticRegression\n",
    "from sklearn.neighbors import KNeighborsClassifier\n",
    "from sklearn.naive_bayes import GaussianNB \n",
    "from sklearn.ensemble import RandomForestClassifier\n",
    "from mlxtend.classifier import StackingClassifier\n",
    "import numpy as np\n",
    "import warnings\n",
    "\n",
    "warnings.simplefilter('ignore')\n",
    "\n",
    "clf1 = KNeighborsClassifier(n_neighbors=1)\n",
    "clf2 = RandomForestClassifier(random_state=1)\n",
    "clf3 = GaussianNB()\n",
    "lr = LogisticRegression()\n",
    "sclf = StackingClassifier(classifiers=[clf1, clf2, clf3], \n",
    "                          meta_classifier=lr)\n",
    "\n",
    "print('3-fold cross validation:\\n')\n",
    "\n",
    "for clf, label in zip([clf1, clf2, clf3, sclf], \n",
    "                      ['KNN', \n",
    "                       'Random Forest', \n",
    "                       'Naive Bayes',\n",
    "                       'StackingClassifier']):\n",
    "\n",
    "    scores = model_selection.cross_val_score(clf, X, y, \n",
    "                                              cv=3, scoring='accuracy')\n",
    "    print(\"Accuracy: %0.2f (+/- %0.2f) [%s]\" \n",
    "          % (scores.mean(), scores.std(), label)) \n"
   ]
  },
  {
   "cell_type": "code",
   "execution_count": null,
   "id": "333f2e2b",
   "metadata": {},
   "outputs": [],
   "source": []
  }
 ],
 "metadata": {
  "kernelspec": {
   "display_name": "Python 3 (ipykernel)",
   "language": "python",
   "name": "python3"
  },
  "language_info": {
   "codemirror_mode": {
    "name": "ipython",
    "version": 3
   },
   "file_extension": ".py",
   "mimetype": "text/x-python",
   "name": "python",
   "nbconvert_exporter": "python",
   "pygments_lexer": "ipython3",
   "version": "3.7.7"
  }
 },
 "nbformat": 4,
 "nbformat_minor": 5
}
